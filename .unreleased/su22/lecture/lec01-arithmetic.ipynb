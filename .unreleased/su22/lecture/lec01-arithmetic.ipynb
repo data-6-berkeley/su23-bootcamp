{
 "cells": [
  {
   "cell_type": "markdown",
   "id": "9c235545",
   "metadata": {},
   "source": [
    "From [CS61A](https://cs61a.org/assets/slides/02-Functions.html)."
   ]
  },
  {
   "cell_type": "markdown",
   "id": "4e0c3832",
   "metadata": {},
   "source": [
    "## Expressions (with operators)"
   ]
  },
  {
   "cell_type": "code",
   "execution_count": null,
   "id": "55b3bfec",
   "metadata": {},
   "outputs": [],
   "source": [
    "18 + 69"
   ]
  },
  {
   "cell_type": "code",
   "execution_count": null,
   "id": "9b93a253",
   "metadata": {},
   "outputs": [],
   "source": [
    "6/23"
   ]
  },
  {
   "cell_type": "code",
   "execution_count": null,
   "id": "fbf0e006",
   "metadata": {},
   "outputs": [],
   "source": [
    "2 * 100"
   ]
  },
  {
   "cell_type": "code",
   "execution_count": null,
   "id": "c3680655",
   "metadata": {},
   "outputs": [],
   "source": [
    "2 ** 100"
   ]
  },
  {
   "cell_type": "markdown",
   "id": "6bd120ba",
   "metadata": {},
   "source": [
    "## Call Expressions"
   ]
  },
  {
   "cell_type": "code",
   "execution_count": null,
   "id": "9e7dad71",
   "metadata": {},
   "outputs": [],
   "source": [
    "pow(2, 100)"
   ]
  },
  {
   "cell_type": "code",
   "execution_count": null,
   "id": "54020659",
   "metadata": {},
   "outputs": [],
   "source": [
    "max(50, 300)"
   ]
  },
  {
   "cell_type": "code",
   "execution_count": null,
   "id": "bd7dbf6c",
   "metadata": {},
   "outputs": [],
   "source": [
    "min(-1, -300)"
   ]
  },
  {
   "cell_type": "markdown",
   "id": "2a1711c9",
   "metadata": {},
   "source": [
    "## Expressions (both ways)"
   ]
  },
  {
   "cell_type": "code",
   "execution_count": null,
   "id": "69718b15",
   "metadata": {},
   "outputs": [],
   "source": [
    "# which expression's evaluated value is output?\n",
    "2 ** 100\n",
    "pow(2, 100)"
   ]
  },
  {
   "cell_type": "code",
   "execution_count": null,
   "id": "5359a373",
   "metadata": {},
   "outputs": [],
   "source": [
    "from operator import add\n",
    "\n",
    "18 + 69\n",
    "add(18, 69)"
   ]
  },
  {
   "cell_type": "markdown",
   "id": "4360dbe3",
   "metadata": {},
   "source": [
    "## Using names"
   ]
  },
  {
   "cell_type": "code",
   "execution_count": null,
   "id": "63ee6911",
   "metadata": {},
   "outputs": [],
   "source": [
    "x = 10\n",
    "y = 3\n",
    "\n",
    "result1 = x * y\n",
    "result2 = x + y"
   ]
  },
  {
   "cell_type": "markdown",
   "id": "a08e53e0",
   "metadata": {},
   "source": [
    "Name rebinding.\n",
    "\n",
    "Will the below code error? If not, what will `my_name` store?"
   ]
  },
  {
   "cell_type": "code",
   "execution_count": 1,
   "id": "0a69a784",
   "metadata": {},
   "outputs": [],
   "source": [
    "my_name = 'Lisa'\n",
    "\n",
    "my_name = my_name + 'isa'"
   ]
  }
 ],
 "metadata": {
  "kernelspec": {
   "display_name": "Python 3 (ipykernel)",
   "language": "python",
   "name": "python3"
  },
  "language_info": {
   "codemirror_mode": {
    "name": "ipython",
    "version": 3
   },
   "file_extension": ".py",
   "mimetype": "text/x-python",
   "name": "python",
   "nbconvert_exporter": "python",
   "pygments_lexer": "ipython3",
   "version": "3.9.10"
  }
 },
 "nbformat": 4,
 "nbformat_minor": 5
}
