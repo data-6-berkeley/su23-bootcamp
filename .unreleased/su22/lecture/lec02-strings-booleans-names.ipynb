{
 "cells": [
  {
   "cell_type": "markdown",
   "id": "019273ce",
   "metadata": {},
   "source": [
    "\n",
    "From [CS 61A Lecture 3](https://cs61a.org/lecture/lec03/)"
   ]
  },
  {
   "cell_type": "markdown",
   "id": "95ee307c",
   "metadata": {},
   "source": [
    "## The `None` Value"
   ]
  },
  {
   "cell_type": "code",
   "execution_count": 2,
   "id": "4a1bde7d",
   "metadata": {},
   "outputs": [],
   "source": [
    "def square_it(x):\n",
    "    x * x"
   ]
  },
  {
   "cell_type": "markdown",
   "id": "dba6af55",
   "metadata": {},
   "source": [
    "When a function returns `None`, the Jupyter cell shows no output at all:"
   ]
  },
  {
   "cell_type": "code",
   "execution_count": null,
   "id": "eea04a62",
   "metadata": {},
   "outputs": [],
   "source": [
    "square_it(4)"
   ]
  },
  {
   "cell_type": "markdown",
   "id": "48dce177",
   "metadata": {},
   "source": [
    "## Side Effects"
   ]
  },
  {
   "cell_type": "code",
   "execution_count": 3,
   "id": "14200cd8",
   "metadata": {},
   "outputs": [
    {
     "name": "stdout",
     "output_type": "stream",
     "text": [
      "-2\n"
     ]
    }
   ],
   "source": [
    "print(-2)"
   ]
  },
  {
   "cell_type": "markdown",
   "id": "f52ab8c7",
   "metadata": {},
   "source": [
    "**Side effects vs return values**\n",
    "\n",
    "* Which one has a side effect?\n",
    "* What data type does each function return?"
   ]
  },
  {
   "cell_type": "code",
   "execution_count": null,
   "id": "23b653ff",
   "metadata": {},
   "outputs": [],
   "source": [
    "def square_num1(number):\n",
    "    return pow(number, 2)"
   ]
  },
  {
   "cell_type": "code",
   "execution_count": null,
   "id": "12d9cd93",
   "metadata": {},
   "outputs": [],
   "source": [
    "def square_num2(number):\n",
    "    print(number ** 2)"
   ]
  },
  {
   "cell_type": "markdown",
   "id": "70dafdba",
   "metadata": {},
   "source": [
    "**Nested print statements**"
   ]
  },
  {
   "cell_type": "code",
   "execution_count": 4,
   "id": "881abceb",
   "metadata": {},
   "outputs": [
    {
     "name": "stdout",
     "output_type": "stream",
     "text": [
      "1\n",
      "2\n",
      "None None\n"
     ]
    }
   ],
   "source": [
    "print(print(1), print(2))"
   ]
  },
  {
   "cell_type": "markdown",
   "id": "f1802690",
   "metadata": {},
   "source": [
    "## Booleans\n",
    "\n",
    "Boolean data types"
   ]
  },
  {
   "cell_type": "code",
   "execution_count": null,
   "id": "be15055c",
   "metadata": {},
   "outputs": [],
   "source": [
    "avoid_highways = True"
   ]
  },
  {
   "cell_type": "code",
   "execution_count": null,
   "id": "581c3939",
   "metadata": {},
   "outputs": [],
   "source": [
    "personalized_ads = False"
   ]
  },
  {
   "cell_type": "markdown",
   "id": "525a690a",
   "metadata": {},
   "source": [
    "## Boolean expressions\n",
    "\n",
    "### Comparison operators"
   ]
  },
  {
   "cell_type": "code",
   "execution_count": null,
   "id": "fda8175b",
   "metadata": {},
   "outputs": [],
   "source": [
    "passed_class = grade > 65"
   ]
  },
  {
   "cell_type": "markdown",
   "id": "923fe8cc",
   "metadata": {},
   "source": [
    "**Equality operator**\n",
    "\n",
    "⚠️ Common mistake: Do not confuse `=` (the assignment operator) with `==` (the equality operator)."
   ]
  },
  {
   "cell_type": "code",
   "execution_count": null,
   "id": "6d60eff1",
   "metadata": {},
   "outputs": [],
   "source": [
    "32 == 32"
   ]
  },
  {
   "cell_type": "code",
   "execution_count": 5,
   "id": "b21fad67",
   "metadata": {},
   "outputs": [
    {
     "data": {
      "text/plain": [
       "True"
      ]
     },
     "execution_count": 5,
     "metadata": {},
     "output_type": "execute_result"
    }
   ],
   "source": [
    "'a' == 'a'"
   ]
  },
  {
   "cell_type": "markdown",
   "id": "b5547043",
   "metadata": {},
   "source": [
    "**Inequality operator**"
   ]
  },
  {
   "cell_type": "code",
   "execution_count": null,
   "id": "6455284c",
   "metadata": {},
   "outputs": [],
   "source": [
    "print(30 != 32)\n",
    "print('a' != 'b')"
   ]
  },
  {
   "cell_type": "markdown",
   "id": "fc7512b5",
   "metadata": {},
   "source": [
    "**Greater than, Greater than or equal**"
   ]
  },
  {
   "cell_type": "code",
   "execution_count": 6,
   "id": "9eb9d041",
   "metadata": {},
   "outputs": [
    {
     "name": "stdout",
     "output_type": "stream",
     "text": [
      "True\n",
      "True\n",
      "True\n"
     ]
    }
   ],
   "source": [
    "print(60 > 32)\n",
    "print(60 >= 32)\n",
    "print(32 >= 32)"
   ]
  },
  {
   "cell_type": "markdown",
   "id": "bdd94bd0",
   "metadata": {},
   "source": [
    "**Less than, Less than or equal**"
   ]
  },
  {
   "cell_type": "code",
   "execution_count": null,
   "id": "28686f68",
   "metadata": {},
   "outputs": [],
   "source": [
    "print(20 < 32)\n",
    "print(20 <= 32)\n",
    "print(32 <= 32)"
   ]
  },
  {
   "cell_type": "markdown",
   "id": "6b433b40",
   "metadata": {},
   "source": [
    "\n",
    "### Comparison operators"
   ]
  },
  {
   "cell_type": "code",
   "execution_count": null,
   "id": "56019b04",
   "metadata": {},
   "outputs": [],
   "source": [
    "wear_jacket = is_raining or is_windy"
   ]
  },
  {
   "cell_type": "markdown",
   "id": "9d3a052a",
   "metadata": {},
   "source": [
    "**`and` Operator**"
   ]
  },
  {
   "cell_type": "code",
   "execution_count": null,
   "id": "e4811c8e",
   "metadata": {},
   "outputs": [],
   "source": [
    "4 > 0 and -2 < 0"
   ]
  },
  {
   "cell_type": "markdown",
   "id": "770ed673",
   "metadata": {},
   "source": [
    "**`or` Operator**"
   ]
  },
  {
   "cell_type": "code",
   "execution_count": 7,
   "id": "41738573",
   "metadata": {},
   "outputs": [
    {
     "data": {
      "text/plain": [
       "True"
      ]
     },
     "execution_count": 7,
     "metadata": {},
     "output_type": "execute_result"
    }
   ],
   "source": [
    "4 > 0 or -2 > 0"
   ]
  },
  {
   "cell_type": "markdown",
   "id": "3640eabe",
   "metadata": {},
   "source": [
    "**`not` Operator**"
   ]
  },
  {
   "cell_type": "code",
   "execution_count": 8,
   "id": "1aca8c12",
   "metadata": {},
   "outputs": [
    {
     "data": {
      "text/plain": [
       "True"
      ]
     },
     "execution_count": 8,
     "metadata": {},
     "output_type": "execute_result"
    }
   ],
   "source": [
    "not (5 == 0)"
   ]
  },
  {
   "cell_type": "markdown",
   "id": "a8042385",
   "metadata": {},
   "source": [
    "### Compound booleans\n",
    "\n",
    "Use parentheses:"
   ]
  },
  {
   "cell_type": "code",
   "execution_count": null,
   "id": "c1bbc08b",
   "metadata": {},
   "outputs": [],
   "source": [
    "may_have_mobility_issues = (age >= 0 and age < 2)  or age > 90"
   ]
  }
 ],
 "metadata": {
  "kernelspec": {
   "display_name": "Python 3 (ipykernel)",
   "language": "python",
   "name": "python3"
  },
  "language_info": {
   "codemirror_mode": {
    "name": "ipython",
    "version": 3
   },
   "file_extension": ".py",
   "mimetype": "text/x-python",
   "name": "python",
   "nbconvert_exporter": "python",
   "pygments_lexer": "ipython3",
   "version": "3.9.10"
  }
 },
 "nbformat": 4,
 "nbformat_minor": 5
}
