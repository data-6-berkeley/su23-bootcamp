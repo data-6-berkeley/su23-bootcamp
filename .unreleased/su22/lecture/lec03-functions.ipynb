{
 "cells": [
  {
   "cell_type": "markdown",
   "id": "d6970bb7",
   "metadata": {},
   "source": [
    "From [CS61A](https://cs61a.org/assets/slides/02-Functions.html).\n",
    "\n",
    "## Functions\n",
    "\n",
    "The most common way to define functions is Python is the `def` statement.\n",
    "\n",
    "```\n",
    "def <name>(<parameters>):\n",
    "    return <return expression>\n",
    "```"
   ]
  },
  {
   "cell_type": "code",
   "execution_count": null,
   "id": "d033134d",
   "metadata": {},
   "outputs": [],
   "source": [
    "def add(num1, num2):\n",
    "    return num1 + num2"
   ]
  },
  {
   "cell_type": "markdown",
   "id": "66dd9b4d",
   "metadata": {},
   "source": [
    "Once defined, we can call it:"
   ]
  },
  {
   "cell_type": "code",
   "execution_count": null,
   "id": "0725101c",
   "metadata": {},
   "outputs": [],
   "source": [
    "add(2, 2)"
   ]
  },
  {
   "cell_type": "code",
   "execution_count": null,
   "id": "ad867321",
   "metadata": {},
   "outputs": [],
   "source": [
    "add(18, 69)"
   ]
  },
  {
   "cell_type": "markdown",
   "id": "5d95a354",
   "metadata": {},
   "source": [
    "We can pass in any expressions as arguments:"
   ]
  },
  {
   "cell_type": "code",
   "execution_count": null,
   "id": "3ea01fca",
   "metadata": {},
   "outputs": [],
   "source": [
    "x = 1\n",
    "y = 2\n",
    "add(x, y)"
   ]
  },
  {
   "cell_type": "markdown",
   "id": "af8120c6",
   "metadata": {},
   "source": [
    "x = 3\n",
    "add(x * x, x + x)"
   ]
  },
  {
   "cell_type": "markdown",
   "id": "5c3bbb20",
   "metadata": {},
   "source": [
    "You can also use function calls in expressions..."
   ]
  },
  {
   "cell_type": "code",
   "execution_count": null,
   "id": "36b3b129",
   "metadata": {},
   "outputs": [],
   "source": [
    "big_sum = add(200, 412) + add(312, 256)"
   ]
  },
  {
   "cell_type": "markdown",
   "id": "297b10c3",
   "metadata": {},
   "source": [
    "...and nest function calls inside function calls:"
   ]
  },
  {
   "cell_type": "code",
   "execution_count": null,
   "id": "4f0dd42a",
   "metadata": {},
   "outputs": [],
   "source": [
    "huge_sum = add(add(200, 412), add(312, 256))"
   ]
  },
  {
   "cell_type": "markdown",
   "id": "91d19cb4",
   "metadata": {},
   "source": [
    "### Another example\n",
    "\n",
    "With strings:"
   ]
  },
  {
   "cell_type": "code",
   "execution_count": 1,
   "id": "19d3a63b",
   "metadata": {},
   "outputs": [],
   "source": [
    "def happify(msg):\n",
    "    return \"☺ \" + msg + \" ☺\"\n",
    "    \n",
    "def frownify(msg):\n",
    "    return \"☹ \" + msg + \" ☹\"\n",
    "    \n",
    "def lightning(msg1, msg2):\n",
    "    return \"⚡\" + msg1 + \"⚡\" + msg2 + \"⚡\""
   ]
  },
  {
   "cell_type": "code",
   "execution_count": null,
   "id": "959fae1e",
   "metadata": {},
   "outputs": [],
   "source": [
    "# scratch space here"
   ]
  },
  {
   "cell_type": "markdown",
   "id": "b765611b",
   "metadata": {},
   "source": [
    "<br/><br/><br/>\n",
    "\n",
    "---\n",
    "\n",
    "### Spot the bug #1\n",
    "\n",
    "What's wrong with this code?"
   ]
  },
  {
   "cell_type": "code",
   "execution_count": null,
   "id": "68af42f2",
   "metadata": {},
   "outputs": [],
   "source": [
    "def add(num1, num2):\n",
    "    return sum\n",
    "    sum = num1 + num2\n",
    "\n",
    "sum = add(2, 4)"
   ]
  },
  {
   "cell_type": "markdown",
   "id": "66cb64c2",
   "metadata": {},
   "source": [
    "<br/><br/><br/>\n",
    "\n",
    "---\n",
    "\n",
    "### Spot the bug #2"
   ]
  },
  {
   "cell_type": "code",
   "execution_count": null,
   "id": "e8f9f391",
   "metadata": {},
   "outputs": [],
   "source": [
    "def add():\n",
    "    return num1 + num2\n",
    "\n",
    "sum = add(2, 4)"
   ]
  },
  {
   "cell_type": "markdown",
   "id": "e254974f",
   "metadata": {},
   "source": [
    "<br/><br/><br/>\n",
    "\n",
    "---\n",
    "\n",
    "### Spot the bug #2"
   ]
  },
  {
   "cell_type": "code",
   "execution_count": null,
   "id": "37fcd046",
   "metadata": {},
   "outputs": [],
   "source": [
    "def add(num1, num2):\n",
    "    sum = num1 + num2\n",
    "\n",
    "sum = add(2, 4)"
   ]
  },
  {
   "cell_type": "markdown",
   "id": "9a079e57",
   "metadata": {},
   "source": [
    "<br/><br/><br/>\n",
    "\n",
    "---\n",
    "\n",
    "### Name lookup example #1\n",
    "\n",
    "[View in PythonTutor](http://pythontutor.com/composingprograms.html#code=def%20exclamify%28text%29%3A%0A%20%20%20%20start_exclaim%20%3D%20%22%C2%A1%22%0A%20%20%20%20end_exclaim%20%3D%20%22!%22%0A%20%20%20%20return%20start_exclaim%20%2B%20text%20%2B%20end_exclaim%0A%0Aexclamify%28%22the%20snails%20are%20eating%20my%20lupines%22%29&cumulative=false&curInstr=0&heapPrimitives=nevernest&mode=display&origin=opt-frontend.js&py=3&rawInputLstJSON=%5B%5D&textReferences=false)"
   ]
  },
  {
   "cell_type": "code",
   "execution_count": null,
   "id": "fcdfc483",
   "metadata": {},
   "outputs": [],
   "source": [
    "def exclamify(text):\n",
    "    start_exclaim = \"¡\"\n",
    "    end_exclaim = \"!\"\n",
    "    return start_exclaim + text + end_exclaim\n",
    "\n",
    "exclamify(\"the snails are eating my lupines\")"
   ]
  },
  {
   "cell_type": "markdown",
   "id": "d1e66231",
   "metadata": {},
   "source": [
    "\n",
    "\n",
    "* On line 4, which frame is start_exclaim found in?\n",
    "* On line 4, Which frame is text found in?\n",
    "* On line 6, which frame is exclamify found in?"
   ]
  },
  {
   "cell_type": "markdown",
   "id": "b21e2da1",
   "metadata": {},
   "source": [
    "<br/><br/><br/>\n",
    "\n",
    "---\n",
    "\n",
    "### Name lookup example #2\n",
    "\n",
    "[View in PythonTutor](http://pythontutor.com/composingprograms.html#code=start_exclaim%20%3D%20%22%C2%A1%22%0Aend_exclaim%20%3D%20%22%E2%9D%A3%EF%B8%8F%22%0A%0Adef%20exclamify%28text%29%3A%0A%20%20%20%20return%20start_exclaim%20%2B%20text%20%2B%20end_exclaim%0A%0Aexclamify%28%22the%20voles%20are%20digging%20such%20holes%22%29&cumulative=false&curInstr=0&heapPrimitives=nevernest&mode=display&origin=opt-frontend.js&py=3&rawInputLstJSON=%5B%5D&textReferences=false)"
   ]
  },
  {
   "cell_type": "code",
   "execution_count": null,
   "id": "147c0c4c",
   "metadata": {},
   "outputs": [],
   "source": [
    "start_exclaim = \"¡\"\n",
    "end_exclaim = \"❣️\"\n",
    "\n",
    "def exclamify(text):\n",
    "    return start_exclaim + text + end_exclaim\n",
    "\n",
    "exclamify(\"the voles are digging such holes\")"
   ]
  },
  {
   "cell_type": "markdown",
   "id": "27013b6e",
   "metadata": {},
   "source": [
    "* On line 5, which frame is start_exclaim found in?\n",
    "* On line 5, Which frame is text found in?\n",
    "* On line 6, which frame is exclamify found in?"
   ]
  },
  {
   "cell_type": "markdown",
   "id": "dd751f82",
   "metadata": {},
   "source": [
    "<br/><br/><br/>\n",
    "\n",
    "---\n",
    "\n",
    "### Name lookup example #3\n",
    "[View in PythonTutor](http://pythontutor.com/composingprograms.html#code=def%20exclamify%28text%29%3A%0A%20%20%20%20end_exclaim%20%3D%20%22%E2%81%89%EF%B8%8F%EF%B8%8F%EF%B8%8F%22%0A%20%20%20%20return%20start_exclaim%20%2B%20text%20%2B%20end_exclaim%0A%0Aexclamify%28%22the%20voles%20are%20digging%20such%20holes%22%29&cumulative=false&curInstr=0&heapPrimitives=nevernest&mode=display&origin=opt-frontend.js&py=3&rawInputLstJSON=%5B%5D&textReferences=false)"
   ]
  },
  {
   "cell_type": "code",
   "execution_count": null,
   "id": "0934a467",
   "metadata": {},
   "outputs": [],
   "source": [
    "def exclamify(text):\n",
    "    end_exclaim = \"⁉️️️\"\n",
    "    return start_exclaim + text + end_exclaim\n",
    "\n",
    "exclamify(\"the voles are digging such holes\")"
   ]
  },
  {
   "cell_type": "markdown",
   "id": "32a19595",
   "metadata": {},
   "source": [
    "\n",
    "\n",
    "* Which name will cause a `NameError`?\n",
    "* When will that error happen?\n"
   ]
  },
  {
   "cell_type": "markdown",
   "id": "d807ee06",
   "metadata": {},
   "source": [
    "## Boolean functions\n",
    "\n",
    "A function can use a Boolean expression to return a result based on the values of the parameters."
   ]
  },
  {
   "cell_type": "code",
   "execution_count": null,
   "id": "eff689a8",
   "metadata": {},
   "outputs": [],
   "source": [
    "def passed_class(grade):\n",
    "    return grade > 65"
   ]
  },
  {
   "cell_type": "code",
   "execution_count": null,
   "id": "47bf63b9",
   "metadata": {},
   "outputs": [],
   "source": [
    "def should_wear_jacket(is_rainy, is_windy):\n",
    "    return is_rainy or is_windy"
   ]
  }
 ],
 "metadata": {
  "kernelspec": {
   "display_name": "Python 3 (ipykernel)",
   "language": "python",
   "name": "python3"
  },
  "language_info": {
   "codemirror_mode": {
    "name": "ipython",
    "version": 3
   },
   "file_extension": ".py",
   "mimetype": "text/x-python",
   "name": "python",
   "nbconvert_exporter": "python",
   "pygments_lexer": "ipython3",
   "version": "3.9.10"
  }
 },
 "nbformat": 4,
 "nbformat_minor": 5
}
