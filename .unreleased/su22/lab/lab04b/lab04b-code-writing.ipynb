{
 "cells": [
  {
   "cell_type": "raw",
   "id": "57e231e7",
   "metadata": {},
   "source": [
    "# ASSIGNMENT CONFIG\n",
    "generate: true\n",
    "export_cell:\n",
    "    run_tests: true\n",
    "    pdf: false\n",
    "seed:\n",
    "    variable: rng_seed\n",
    "    autograder_value: 42\n",
    "    student_value: 90"
   ]
  },
  {
   "cell_type": "code",
   "execution_count": 10,
   "id": "9e4aaf5a",
   "metadata": {},
   "outputs": [],
   "source": [
    "# run this cell\n",
    "import numpy as np"
   ]
  },
  {
   "cell_type": "markdown",
   "id": "1f946fbc",
   "metadata": {},
   "source": [
    "# Lab 04: Higher Order Functions\n",
    "\n",
    "Remember to run the Otter cell *and* the NumPy cell at the top of this page!"
   ]
  },
  {
   "cell_type": "markdown",
   "id": "898fad39",
   "metadata": {},
   "source": [
    "\n",
    "<br/><br/>\n",
    "<hr style=\"border: 5px solid #003262;\" />\n",
    "<hr style=\"border: 1px solid #fdb515;\" />\n",
    "\n",
    "# Part 2: Code Writing\n",
    "\n",
    "From [CS 88 Discussion 03](https://cs88-website.github.io/sp22/disc/disc03.pdf)."
   ]
  },
  {
   "cell_type": "markdown",
   "id": "5e1b8f2f",
   "metadata": {},
   "source": [
    "<br/><br/>\n",
    "\n",
    "---\n",
    "\n",
    "# Question 2\n",
    "\n",
    "### Question 2a\n",
    "Implement a function `keep_ints`, which takes in a function `cond` and a number `n`,\n",
    "and only prints a number from `1` to `n` if calling `cond` on that number returns `True`:"
   ]
  },
  {
   "cell_type": "code",
   "execution_count": 4,
   "id": "228b0574",
   "metadata": {},
   "outputs": [],
   "source": [
    "def keep_ints(cond, n):\n",
    "    \"\"\"Print out all integers 1..i..n where cond(i) is true\n",
    "    >>> def is_even(x):\n",
    "    ... # Even numbers have remainder 0 when divided by 2.\n",
    "    ... return x % 2 == 0\n",
    "    >>> keep_ints(is_even, 5)\n",
    "    2\n",
    "    4\n",
    "    \"\"\"\n",
    "    \"YOUR CODE HERE\""
   ]
  },
  {
   "cell_type": "markdown",
   "id": "5936f006",
   "metadata": {},
   "source": [
    "### Question 2b\n",
    "\n",
    "Implement a function `keep_ints_fn` like before, but now it takes in a number `n` and\n",
    "returns a function that has one parameter `cond`. The returned function prints out all\n",
    "numbers from 1..i..n where calling `cond(i)` returns True."
   ]
  },
  {
   "cell_type": "code",
   "execution_count": 11,
   "id": "fa22d64e",
   "metadata": {},
   "outputs": [],
   "source": [
    "def keep_ints_fn(n):\n",
    "    \"\"\"Returns a function which takes one parameter cond and\n",
    "    prints out all integers 1..i..n where calling cond(i)\n",
    "    returns True.\n",
    "    >>> def is_even(x):\n",
    "    ... # Even numbers have remainder 0 when divided by 2.\n",
    "    ... return x % 2 == 0\n",
    "    >>> keep_ints_fn(5)(is_even)\n",
    "    2\n",
    "    4\n",
    "    \"\"\"\n",
    "    \"YOUR CODE HERE\""
   ]
  },
  {
   "cell_type": "markdown",
   "id": "acd82c78",
   "metadata": {},
   "source": [
    "\n",
    "<br/><br/>\n",
    "<hr style=\"border: 5px solid #003262;\" />\n",
    "<hr style=\"border: 1px solid #fdb515;\" />\n",
    "\n",
    "# Lab Questions\n",
    "\n",
    "From [CS 88 Lab 03](https://cs88-website.github.io/sp22/lab/lab03/)"
   ]
  },
  {
   "cell_type": "markdown",
   "id": "8174c39e",
   "metadata": {},
   "source": [
    "---\n",
    "\n",
    "## Question 1: Applying Function Arguments"
   ]
  },
  {
   "cell_type": "code",
   "execution_count": null,
   "id": "025047b2",
   "metadata": {},
   "outputs": [],
   "source": [
    "def square(x):\n",
    "    return x * x\n",
    "\n",
    "def halve(x):\n",
    "    return x // 2\n",
    "\n",
    "def twice(f,x):\n",
    "    \"\"\"Apply f to the result of applying f to x\n",
    "    >>> twice(square,3)\n",
    "    81\n",
    "    >>> twice(square,4)\n",
    "    256\n",
    "    >>> twice(halve, 32)\n",
    "    8\n",
    "    >>> twice(halve, 80)\n",
    "    20\n",
    "    \"\"\"\n",
    "    \"*** YOUR CODE HERE ***\""
   ]
  },
  {
   "cell_type": "markdown",
   "id": "7f5c9067",
   "metadata": {},
   "source": [
    "---\n",
    "\n",
    "## Question 2"
   ]
  },
  {
   "cell_type": "code",
   "execution_count": null,
   "id": "9b1eaf19",
   "metadata": {},
   "outputs": [],
   "source": [
    "def increment(x):\n",
    "    return x + 1\n",
    "\n",
    "def decrement(x):\n",
    "    return x - 1\n",
    "\n",
    "def double(x):\n",
    "    return x * 2\n",
    "\n",
    "def apply_n(f, x, n):\n",
    "    \"\"\"Apply function f to x n times.\n",
    "\n",
    "    >>> apply_n(increment, 2, 10)\n",
    "    12\n",
    "    >>> apply_n(decrement, 5, 8)\n",
    "    -3\n",
    "    >>> apply_n(double, 7, 3)\n",
    "    56\n",
    "    \"\"\"\n",
    "    \"*** YOUR CODE HERE ***\""
   ]
  },
  {
   "cell_type": "markdown",
   "id": "d7f0b161",
   "metadata": {},
   "source": [
    "<br/><br/>\n",
    "\n",
    "---\n",
    "\n",
    "## Question 3: Flight of the Bumblebee\n",
    "\n",
    "Write a function that takes in a number `n` and returns a function that takes in a number `m` which will print all numbers from `0` to `m - 1` (including `0` but excluding `m`) but print `Buzz!` instead for all the numbers that are divisible by `n`."
   ]
  },
  {
   "cell_type": "code",
   "execution_count": null,
   "id": "db0f4b93",
   "metadata": {},
   "outputs": [],
   "source": [
    "def make_buzzer(n):\n",
    "    \"\"\" Returns a function that prints numbers in a specified\n",
    "    range except those divisible by n.\n",
    "\n",
    "    >>> i_hate_fives = make_buzzer(5)\n",
    "    >>> i_hate_fives(10)\n",
    "    Buzz!\n",
    "    1\n",
    "    2\n",
    "    3\n",
    "    4\n",
    "    Buzz!\n",
    "    6\n",
    "    7\n",
    "    8\n",
    "    9\n",
    "    \"\"\"\n",
    "    \"*** YOUR CODE HERE ***\""
   ]
  },
  {
   "cell_type": "markdown",
   "id": "0469d0f5",
   "metadata": {},
   "source": [
    "<br/><br/>\n",
    "\n",
    "---\n",
    "\n",
    "## Question 3: Piecewise\n",
    "\n",
    "Implement `piecewise`, which takes two one-argument functions, `f` and `g`, along with a number `b`. It returns a new function that takes a number `x` and returns either `f(x)` if `x` is less than `b`, or `g(x)` if `x` is greater than or equal to `b`."
   ]
  },
  {
   "cell_type": "code",
   "execution_count": null,
   "id": "446f3586",
   "metadata": {},
   "outputs": [],
   "source": [
    "\n",
    "def piecewise(f, g, b):\n",
    "    \"\"\"Returns the piecewise function h where:\n",
    "\n",
    "    h(x) = f(x) if x < b,\n",
    "           g(x) otherwise\n",
    "\n",
    "    >>> def negate(x):\n",
    "    ...     return -x\n",
    "    >>> def identity(x):\n",
    "    ...     return x\n",
    "    >>> abs_value = piecewise(negate, identity, 0)\n",
    "    >>> abs_value(6)\n",
    "    6\n",
    "    >>> abs_value(-1)\n",
    "    1\n",
    "    \"\"\"\n",
    "    \"*** YOUR CODE HERE ***\"\n",
    "    "
   ]
  },
  {
   "cell_type": "markdown",
   "id": "6955e84a",
   "metadata": {},
   "source": [
    "<br/><br/>\n",
    "\n",
    "---\n",
    "\n",
    "## Question 4: Funception\n",
    "\n",
    "Write a function `funception` that takes in another function `func_a` and a number `start` and returns a function `func_b` that will have one parameter to take in the stop value. `func_b` should take the following into consideration the following in order:\n",
    "\n",
    "1. Takes in the `stop` value.\n",
    "2. If the value of `start` is less than 0, it should exit the function.\n",
    "3. If the value of `start` is greater than stop, apply `func_a` on `start` and return the result.\n",
    "4. If not, apply `func_a` on all the numbers from `start` (inclusive) up to `stop` (exclusive) and return the product.\n"
   ]
  },
  {
   "cell_type": "code",
   "execution_count": null,
   "id": "9023722f",
   "metadata": {},
   "outputs": [],
   "source": [
    "def funception(func_a, start):\n",
    "    \"\"\" Takes in a function (function A) and a start value.\n",
    "    Returns a function (function B) that will find the product of \n",
    "    function A applied to the range of numbers from \n",
    "    start (inclusive) to stop (exclusive)\n",
    "\n",
    "    >>> def func_a(num):\n",
    "    ...     return num + 1\n",
    "    >>> func_b1 = funception(func_a, 3)\n",
    "    >>> func_b1(2)\n",
    "    4\n",
    "    >>> func_b2 = funception(func_a, -2)\n",
    "    >>> func_b2(-3)\n",
    "    >>> func_b3 = funception(func_a, -1)\n",
    "    >>> func_b3(4)\n",
    "    >>> func_b4 = funception(func_a, 0)\n",
    "    >>> func_b4(3)\n",
    "    6\n",
    "    >>> func_b5 = funception(func_a, 1)\n",
    "    >>> func_b5(4)\n",
    "    24\n",
    "    \"\"\"\n",
    "    \"*** YOUR CODE HERE ***\"\n",
    "    "
   ]
  },
  {
   "cell_type": "markdown",
   "id": "c1a7c7fa",
   "metadata": {},
   "source": [
    "## Done!\n",
    "\n",
    "That's it! There's nowhere for you to submit this, as labs are not assignments. However, please ask any questions you have with this notebook in lab or on Slack."
   ]
  }
 ],
 "metadata": {
  "kernelspec": {
   "display_name": "Python 3 (ipykernel)",
   "language": "python",
   "name": "python3"
  },
  "language_info": {
   "codemirror_mode": {
    "name": "ipython",
    "version": 3
   },
   "file_extension": ".py",
   "mimetype": "text/x-python",
   "name": "python",
   "nbconvert_exporter": "python",
   "pygments_lexer": "ipython3",
   "version": "3.9.10"
  }
 },
 "nbformat": 4,
 "nbformat_minor": 5
}
