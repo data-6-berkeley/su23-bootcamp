{
 "cells": [
  {
   "cell_type": "raw",
   "id": "57e231e7",
   "metadata": {},
   "source": [
    "# ASSIGNMENT CONFIG\n",
    "generate: true\n",
    "export_cell:\n",
    "    run_tests: true\n",
    "    pdf: false\n",
    "seed:\n",
    "    variable: rng_seed\n",
    "    autograder_value: 42\n",
    "    student_value: 90\n",
    "files:"
   ]
  },
  {
   "cell_type": "markdown",
   "id": "1f946fbc",
   "metadata": {},
   "source": [
    "# Coding Bootcamp Lab 2: Functions\n",
    "\n",
    "## Tuskegee Scholars Summer 2023\n",
    "\n",
    "Material is from  [CS 88](https://cs88-website.github.io/sp22/) and [CS 61A](https://cs61a.org/).\n",
    "\n",
    "Goals of Lab 2:\n",
    "* Write functions\n",
    "* Trace through environment diagrams involving functions\n",
    "* Write boolean functions (more practice with boolean expressions)\n",
    "\n",
    "If you haven't paired up/teamed up with anyone yet, we strongly encourage you to for this lab! This lab is longer than the other labs and is intentionally written more like \"puzzles.\" So grab a friend, your computer, a piece of paper, and a pen, and let's get started :-)\n",
    "\n",
    "P.S. -- Feel free to ask your partner what they had for lunch. Maybe you'll discover something new..."
   ]
  },
  {
   "cell_type": "markdown",
   "id": "1e73c073",
   "metadata": {},
   "source": [
    "\n",
    "<br/><br/>\n",
    "<hr style=\"border: 5px solid #003262;\" />\n",
    "<hr style=\"border: 1px solid #fdb515;\" />\n",
    "\n",
    "# Part 1: Functions, Autograders, and Environment Diagrams\n",
    "\n",
    "If we want to execute a series of statements over and over, we can abstract them away into a **function** to avoid repeating code.\n",
    "\n",
    "For example, let's say we want to know the results of multiplying the numbers 1-3 by 3 and then adding 2 to it. Here's one way to do it:"
   ]
  },
  {
   "cell_type": "code",
   "execution_count": null,
   "id": "af4ad9f9",
   "metadata": {},
   "outputs": [],
   "source": [
    "1 * 3 + 2"
   ]
  },
  {
   "cell_type": "code",
   "execution_count": null,
   "id": "3de6c3fa",
   "metadata": {},
   "outputs": [],
   "source": [
    "2 * 3 + 2"
   ]
  },
  {
   "cell_type": "code",
   "execution_count": null,
   "id": "1384c193",
   "metadata": {},
   "outputs": [],
   "source": [
    "3 * 3 + 2"
   ]
  },
  {
   "cell_type": "markdown",
   "id": "7838f533",
   "metadata": {},
   "source": [
    "\n",
    "If we wanted to do this with a larger set of numbers, that'd be a lot of repeated code! Let's write a function to capture this operation given any input number.\n"
   ]
  },
  {
   "cell_type": "code",
   "execution_count": null,
   "id": "cbb4e9aa",
   "metadata": {},
   "outputs": [],
   "source": [
    "def foo(x):\n",
    "    return x * 3 + 2"
   ]
  },
  {
   "cell_type": "markdown",
   "id": "b0c37397",
   "metadata": {},
   "source": [
    "\n",
    "This function, called foo, takes in a single **argument** and will **return** the result of multiplying that argument by 3 and adding 2.\n",
    "\n",
    "Now we can **call** this function whenever we want this operation to be done:"
   ]
  },
  {
   "cell_type": "code",
   "execution_count": null,
   "id": "4e27df09",
   "metadata": {},
   "outputs": [],
   "source": [
    "foo(1)"
   ]
  },
  {
   "cell_type": "code",
   "execution_count": null,
   "id": "7085c32e",
   "metadata": {},
   "outputs": [],
   "source": [
    "foo(2)"
   ]
  },
  {
   "cell_type": "code",
   "execution_count": null,
   "id": "8b861a01",
   "metadata": {},
   "outputs": [],
   "source": [
    "foo(1000)"
   ]
  },
  {
   "cell_type": "markdown",
   "id": "0552b98a",
   "metadata": {},
   "source": [
    "Applying a function to some arguments is done with a **call expression.**"
   ]
  },
  {
   "cell_type": "markdown",
   "id": "cff66eb3",
   "metadata": {},
   "source": [
    "\n",
    "<br/><br/>\n",
    "\n",
    "\n",
    "## Otter Grader\n",
    "\n",
    "In this lab, we are introducing a new Jupyter system that you will use extensively in Data 6: **Otter Grader.** Otter grader is an autograder (yes, the similar pronunciation is intentional), meaning that it checks your Python code for correctness.\n",
    "\n",
    "If you haven’t already, make sure you have run the cell at the top of this notebook to initialize Otter.\n",
    "\n",
    "With Otter, you can start using the built-in tests to check whether your work is correct. Sometimes, there are multiple tests for a single question, and passing all of them is required to receive credit for the question. Please don't change the contents of the test cells.\n",
    "\n",
    "Go ahead and attempt the question below. Running the cell directly after it (`grader.check(...)`) will test whether you have implemented `ilovedata()` correctly. If you haven't, this test will tell you the correct answer."
   ]
  },
  {
   "cell_type": "raw",
   "id": "4d3610c9",
   "metadata": {},
   "source": [
    "# BEGIN QUESTION\n",
    "name: q1\n",
    "points: 2"
   ]
  },
  {
   "cell_type": "markdown",
   "id": "1e5ac192",
   "metadata": {},
   "source": [
    "\n",
    "---\n",
    "\n",
    "# Question 1\n",
    "\n",
    "Complete the below question `ilovedata()` below such that it returns the string `\"I love Data Science!\"`."
   ]
  },
  {
   "cell_type": "raw",
   "id": "10c6925d",
   "metadata": {},
   "source": [
    "# BEGIN SOLUTION"
   ]
  },
  {
   "cell_type": "code",
   "execution_count": 12,
   "id": "c01b8049",
   "metadata": {},
   "outputs": [
    {
     "data": {
      "text/plain": [
       "'I love Data Science!'"
      ]
     },
     "execution_count": 12,
     "metadata": {},
     "output_type": "execute_result"
    }
   ],
   "source": [
    "def ilovedata():\n",
    "    # BEGIN SOLUTION\n",
    "    return \"I love Data Science!\"\n",
    "    # END SOLUTION\n",
    "\n",
    "# We've put this line in this cell \n",
    "# so that it will print the value you've given to seconds_in_a_decade when you run it.  \n",
    "# You don't need to change this.\n",
    "ilovedata()"
   ]
  },
  {
   "cell_type": "raw",
   "id": "f408a59f",
   "metadata": {},
   "source": [
    "# END SOLUTION"
   ]
  },
  {
   "cell_type": "raw",
   "id": "5d778d4d",
   "metadata": {},
   "source": [
    "# BEGIN TESTS"
   ]
  },
  {
   "cell_type": "code",
   "execution_count": 13,
   "id": "2480586b",
   "metadata": {},
   "outputs": [
    {
     "data": {
      "text/plain": [
       "True"
      ]
     },
     "execution_count": 13,
     "metadata": {},
     "output_type": "execute_result"
    }
   ],
   "source": [
    "ilovedata() == \"I love Data Science!\""
   ]
  },
  {
   "cell_type": "code",
   "execution_count": 14,
   "id": "ed2aa47e",
   "metadata": {},
   "outputs": [
    {
     "data": {
      "text/plain": [
       "True"
      ]
     },
     "execution_count": 14,
     "metadata": {},
     "output_type": "execute_result"
    }
   ],
   "source": [
    "len(ilovedata()) == len(\"I love Data Science!\")"
   ]
  },
  {
   "cell_type": "raw",
   "id": "2d1160fb",
   "metadata": {},
   "source": [
    "# END TESTS"
   ]
  },
  {
   "cell_type": "raw",
   "id": "a22df60a",
   "metadata": {},
   "source": [
    "# END QUESTION"
   ]
  },
  {
   "cell_type": "markdown",
   "id": "2b8934e1",
   "metadata": {},
   "source": [
    "<br/><br/>\n",
    "\n",
    "\n",
    "## More Environment Diagrams\n",
    "\n",
    "From [CS 61A Discussion 01](https://cs61a.org/disc/disc01/).\n",
    "\n",
    "Let's come back to the environment diagram. It is a visual way of understanding how Python works with names (i.e., variables) and function calls.\n",
    "\n",
    "One key idea in environment diagrams is the **frame**. A frame helps us keep track of what variables (i.e., names) have been defined in the current execution environment, and what values they hold. The frame we start off with when executing a program from scratch is what we call the **Global frame**. Later, we'll get into how new frames are created and how they may depend on their parent frame.\n",
    "\n",
    "<br/>\n",
    "\n",
    "---\n",
    "\n",
    "# Question 2: Discussing and Tracing a Program\n",
    "\n",
    "Here's a short program and its corresponding diagram:\n",
    "\n",
    "**Python Tutor** [click here](https://pythontutor.com/render.html#code=x%20%3D%203%0A%0Adef%20square%28x%29%3A%0A%20%20%20%20return%20x%20*%20x%0A%20%20%20%20%0Ax%20%3D%20square%282%29%0Ax&cumulative=false&curInstr=0&heapPrimitives=nevernest&mode=display&origin=opt-frontend.js&py=3&rawInputLstJSON=%5B%5D&textReferences=false)"
   ]
  },
  {
   "cell_type": "code",
   "execution_count": null,
   "id": "db71eebc",
   "metadata": {},
   "outputs": [],
   "source": [
    "x = 3\n",
    "\n",
    "def square(x):\n",
    "    return x * x\n",
    "\n",
    "x = square(2)\n",
    "x"
   ]
  },
  {
   "cell_type": "markdown",
   "id": "a116285f",
   "metadata": {},
   "source": [
    "With your partner and the Python Tutor:\n",
    "* Trace through the above program.\n",
    "* What is the final value of `x`?\n",
    "* Identify the different frames that are created.\n",
    "* How is the return value of the `square` function visualized in the environment diagram?\n",
    "* Identify all the values that the name `x` binds to. Compare and contrast. How are they different?"
   ]
  },
  {
   "cell_type": "markdown",
   "id": "1f78f3da",
   "metadata": {},
   "source": [
    "\n",
    "<br/><br/>\n",
    "<hr style=\"border: 5px solid #003262;\" />\n",
    "<hr style=\"border: 1px solid #fdb515;\" />\n",
    "\n",
    "# Part 2: Function Practice\n",
    "\n",
    "From [CS 61A Lecture 02](https://cs61a.org/assets/slides/02-Functions.html#/39).\n",
    "\n",
    "To improve coding skills, you will need to *practice, practice, practice.*\n",
    "\n",
    "Many (if not all) of the programs below can be written with a single line in the body, like so:\n",
    "\n",
    "```\n",
    "def some_function(arg):\n",
    "    return some_expression_with_arg\n",
    "```\n",
    "\n",
    "However, sometimes you will find it easier to create *intermediate* assignment statements to break up your work, like so:\n",
    "\n",
    "```\n",
    "def some_function(arg):\n",
    "    intermediate_name = some_expression_with_arg\n",
    "    another_intermediate_name = some_expression_with_intermediate_name_and_arg\n",
    "    return some_final_expression\n",
    "```\n",
    "\n",
    "If you follow the latter path, challenge yourself to edit your code so that it fits in one line! Overall, *it is easier to fix messy code that works than to start from a completely blank slate.* (Just like writing essays for humanities courses--ideas are hard, and editing is easier.) So just take your first step, and revise it afterwards!\n",
    "\n",
    "<br/>\n",
    "\n",
    "Here are some tips for each exercise below:\n",
    "* First, start from the arguments (do you need any?).\n",
    "* Then, think about the return value. What type is it?\n",
    "* Then, think about the logic to meet the problem specification\n",
    "* Finally, look back over your code to see if it can be simplified."
   ]
  },
  {
   "cell_type": "raw",
   "id": "26a77a22",
   "metadata": {},
   "source": [
    "# BEGIN QUESTION\n",
    "name: q3\n",
    "points: 2"
   ]
  },
  {
   "cell_type": "markdown",
   "id": "b7325d4f",
   "metadata": {},
   "source": [
    "<br/><br/>\n",
    "\n",
    "---\n",
    "\n",
    "# Question 3: Calculate Dog Age\n",
    "\n",
    "You know how old a dog is in human years, but what about dog years? Calculate it!\n",
    "\n",
    "Write a function named `calculate_dog_age` that:\n",
    "* takes 1 argument: a dog's age in human years.\n",
    "* calculates the dog's age based on the conversion rate of 1 human year to 7 dog years.\n",
    "* returns the age in dog years.\n",
    "\n",
    "Your implementation should correctly evaluate the following:\n",
    "\n",
    "```\n",
    "calculate_dog_age(1)   # 7\n",
    "calculate_dog_age(0.5) # 3.5\n",
    "calculate_dog_age(12)  # 84\n",
    "```"
   ]
  },
  {
   "cell_type": "raw",
   "id": "ca9db7da",
   "metadata": {},
   "source": [
    "# BEGIN SOLUTION"
   ]
  },
  {
   "cell_type": "code",
   "execution_count": 52,
   "id": "fe5ea7ca",
   "metadata": {},
   "outputs": [
    {
     "data": {
      "text/plain": [
       "7"
      ]
     },
     "execution_count": 52,
     "metadata": {},
     "output_type": "execute_result"
    }
   ],
   "source": [
    "def calculate_dog_age(years):\n",
    "    return years * 7 # SOLUTION\n",
    "\n",
    "calculate_dog_age(1)"
   ]
  },
  {
   "cell_type": "raw",
   "id": "09be48f2",
   "metadata": {},
   "source": [
    "# END SOLUTION"
   ]
  },
  {
   "cell_type": "raw",
   "id": "47f3b59d",
   "metadata": {},
   "source": [
    "# BEGIN TESTS"
   ]
  },
  {
   "cell_type": "code",
   "execution_count": 18,
   "id": "d299a859",
   "metadata": {},
   "outputs": [
    {
     "data": {
      "text/plain": [
       "True"
      ]
     },
     "execution_count": 18,
     "metadata": {},
     "output_type": "execute_result"
    }
   ],
   "source": [
    "calculate_dog_age(1) == 7"
   ]
  },
  {
   "cell_type": "code",
   "execution_count": 19,
   "id": "2c75cf8a",
   "metadata": {},
   "outputs": [
    {
     "data": {
      "text/plain": [
       "True"
      ]
     },
     "execution_count": 19,
     "metadata": {},
     "output_type": "execute_result"
    }
   ],
   "source": [
    "calculate_dog_age(0.5) == 3.5"
   ]
  },
  {
   "cell_type": "code",
   "execution_count": 20,
   "id": "6842cfd0",
   "metadata": {},
   "outputs": [
    {
     "data": {
      "text/plain": [
       "True"
      ]
     },
     "execution_count": 20,
     "metadata": {},
     "output_type": "execute_result"
    }
   ],
   "source": [
    "calculate_dog_age(12) == 84"
   ]
  },
  {
   "cell_type": "raw",
   "id": "6fe853d6",
   "metadata": {},
   "source": [
    "# END TESTS"
   ]
  },
  {
   "cell_type": "raw",
   "id": "a4316519",
   "metadata": {},
   "source": [
    "# END QUESTION"
   ]
  },
  {
   "cell_type": "raw",
   "id": "3ed6136f",
   "metadata": {},
   "source": [
    "# BEGIN QUESTION\n",
    "name: q4\n",
    "points: 2"
   ]
  },
  {
   "cell_type": "markdown",
   "id": "02ff87eb",
   "metadata": {},
   "source": [
    "<br/><br/>\n",
    "\n",
    "---\n",
    "\n",
    "# Question 4: Fortune Teller\n",
    "\n",
    "Why pay a fortune teller when you can just program your fortune yourself?\n",
    "\n",
    "Write a function named `tell_fortune` that:\n",
    "* takes 3 arguments: job title, partner's name, geographic location.\n",
    "* returns a fortune of the form: 'You will be a {job_title} in {location} living with {partner}.'\n",
    "**Tip**: If your line of code is getting long, you can split up the line\n",
    "by using `\\` (the backslash character, located above the <Enter> key on a U.S. keyboard) between values in an expression. For example,\n",
    "    \n",
    "    \"this super long string yaddayadda blah blah blah\"\n",
    "    \n",
    "turns into (using the concatenator operator `+`)\n",
    "    \n",
    "    \"this super long string \" + \\\n",
    "    \"yadda yadda blah blah blah\"\n",
    "    \n",
    "Note the space at the end of `string `! Why do we keep it?\n",
    "    \n",
    "<br/>\n",
    "    \n",
    "\n",
    "Your implementation should correctly evaluate the following:\n",
    "\n",
    "```\n",
    "tell_fortune('football player', 'Spain', 'Shakira') # 'You will be a football player in Spain living with Shakira.'\n",
    "tell_fortune('farmer', 'Kansas', 'C3PO') # 'You will be a farmer in Kansas living with C3PO.'\n",
    "tell_fortune('Elvis Impersonator', 'Russia', 'Karl the Fog') # 'You will be a Elvis Impersonator in Russia living with Karl the Fog.'\n",
    "```\n"
   ]
  },
  {
   "cell_type": "raw",
   "id": "b2bc98fc",
   "metadata": {},
   "source": [
    "# BEGIN SOLUTION"
   ]
  },
  {
   "cell_type": "code",
   "execution_count": 54,
   "id": "ccbdcc39",
   "metadata": {},
   "outputs": [
    {
     "data": {
      "text/plain": [
       "'You will be a football player in Spain living with Shakira.'"
      ]
     },
     "execution_count": 54,
     "metadata": {},
     "output_type": "execute_result"
    }
   ],
   "source": [
    "def tell_fortune(job_title, location, partner):\n",
    "    return \"You will be a \" + job_title + \" in \" + location + \" living with \" + partner + \".\" # SOLUTION\n",
    "\n",
    "# edit the below line as needed to test your function\n",
    "tell_fortune('football player', 'Spain', 'Shakira') "
   ]
  },
  {
   "cell_type": "raw",
   "id": "35e705a7",
   "metadata": {},
   "source": [
    "# END SOLUTION"
   ]
  },
  {
   "cell_type": "raw",
   "id": "7640ab37",
   "metadata": {},
   "source": [
    "# BEGIN TESTS"
   ]
  },
  {
   "cell_type": "code",
   "execution_count": 50,
   "id": "85733297",
   "metadata": {},
   "outputs": [
    {
     "data": {
      "text/plain": [
       "True"
      ]
     },
     "execution_count": 50,
     "metadata": {},
     "output_type": "execute_result"
    }
   ],
   "source": [
    "tell_fortune('football player', 'Spain', 'Shakira') == 'You will be a football player in Spain living with Shakira.'"
   ]
  },
  {
   "cell_type": "code",
   "execution_count": 15,
   "id": "71230f31",
   "metadata": {},
   "outputs": [
    {
     "data": {
      "text/plain": [
       "True"
      ]
     },
     "execution_count": 15,
     "metadata": {},
     "output_type": "execute_result"
    }
   ],
   "source": [
    "tell_fortune('farmer', 'Kansas', 'C3PO') == 'You will be a farmer in Kansas living with C3PO.'"
   ]
  },
  {
   "cell_type": "code",
   "execution_count": 16,
   "id": "f6a5465d",
   "metadata": {},
   "outputs": [
    {
     "data": {
      "text/plain": [
       "True"
      ]
     },
     "execution_count": 16,
     "metadata": {},
     "output_type": "execute_result"
    }
   ],
   "source": [
    "tell_fortune('Elvis Impersonator', 'Russia', 'Karl the Fog') == 'You will be a Elvis Impersonator in Russia living with Karl the Fog.'"
   ]
  },
  {
   "cell_type": "raw",
   "id": "4706e727",
   "metadata": {},
   "source": [
    "# END TESTS"
   ]
  },
  {
   "cell_type": "raw",
   "id": "a7f246e3",
   "metadata": {},
   "source": [
    "# END QUESTION"
   ]
  },
  {
   "cell_type": "raw",
   "id": "82f127bb",
   "metadata": {},
   "source": [
    "# BEGIN QUESTION\n",
    "name: q5a\n",
    "points: 2"
   ]
  },
  {
   "cell_type": "markdown",
   "id": "8f1b55b0",
   "metadata": {},
   "source": [
    "<br/><br/>\n",
    "\n",
    "---\n",
    "\n",
    "# Question 5: Lifetime Supply\n",
    "\n",
    "## Question 5a\n",
    "\n",
    "Ever wonder how much a \"lifetime supply\" of your favorite snack is? Wonder no more!\n",
    "\n",
    "Write a function named `calculate_supply` that:\n",
    "* takes 2 arguments: age, amount per day.\n",
    "* calculates the amount consumed for rest of the life (based on a constant max age of 81).*\n",
    "* returns the result.\n",
    "\n",
    "**Hint**: Assume each year has exactly 365 days (no leap years).\n",
    "\n",
    "\\*Side note unrelated to the coding question: This max age is higher than the average life expectancy in the U.S; check out the [World bank](https://data.worldbank.org/indicator/SP.DYN.LE00.IN) for average life expectancy per country as of 2020.\n",
    "\n",
    "\n",
    "\n",
    "Your implementation should correctly evaluate the following:\n",
    "```\n",
    "calculate_supply(80, 1) # 365\n",
    "calculate_supply(80, 2) # 730\n",
    "calculate_supply(36, 3) # 49275\n",
    "```"
   ]
  },
  {
   "cell_type": "raw",
   "id": "431fccd5",
   "metadata": {},
   "source": [
    "# BEGIN SOLUTION"
   ]
  },
  {
   "cell_type": "code",
   "execution_count": 49,
   "id": "61daf525",
   "metadata": {},
   "outputs": [
    {
     "data": {
      "text/plain": [
       "365"
      ]
     },
     "execution_count": 49,
     "metadata": {},
     "output_type": "execute_result"
    }
   ],
   "source": [
    "\"\"\" # BEGIN PROMPT\n",
    "# This def statement may be incomplete...\n",
    "def calculate_supply():\n",
    "    return ...\n",
    "\"\"\" # END PROMPT\n",
    "\n",
    "# BEGIN SOLUTION NO PROMPT\n",
    "def calculate_supply(age, amount_per_day):\n",
    "    return (81 - age)*amount_per_day*365\n",
    "# END SOLUTION\n",
    "\n",
    "# edit the below line as needed to test your function\n",
    "calculate_supply(80, 1)"
   ]
  },
  {
   "cell_type": "raw",
   "id": "de90838a",
   "metadata": {},
   "source": [
    "# END SOLUTION"
   ]
  },
  {
   "cell_type": "raw",
   "id": "59a0ac80",
   "metadata": {},
   "source": [
    "# BEGIN TESTS"
   ]
  },
  {
   "cell_type": "code",
   "execution_count": 26,
   "id": "4f323366",
   "metadata": {},
   "outputs": [
    {
     "data": {
      "text/plain": [
       "True"
      ]
     },
     "execution_count": 26,
     "metadata": {},
     "output_type": "execute_result"
    }
   ],
   "source": [
    "calculate_supply(80, 1) == 365"
   ]
  },
  {
   "cell_type": "code",
   "execution_count": 27,
   "id": "1c8762be",
   "metadata": {},
   "outputs": [
    {
     "data": {
      "text/plain": [
       "True"
      ]
     },
     "execution_count": 27,
     "metadata": {},
     "output_type": "execute_result"
    }
   ],
   "source": [
    "calculate_supply(80, 2) == 730"
   ]
  },
  {
   "cell_type": "code",
   "execution_count": 28,
   "id": "3137d0a7",
   "metadata": {},
   "outputs": [
    {
     "data": {
      "text/plain": [
       "True"
      ]
     },
     "execution_count": 28,
     "metadata": {},
     "output_type": "execute_result"
    }
   ],
   "source": [
    "calculate_supply(36, 3) == 49275"
   ]
  },
  {
   "cell_type": "raw",
   "id": "1e48e8c7",
   "metadata": {},
   "source": [
    "# END TESTS"
   ]
  },
  {
   "cell_type": "raw",
   "id": "3e8df809",
   "metadata": {},
   "source": [
    "# END QUESTION"
   ]
  },
  {
   "cell_type": "raw",
   "id": "fa42ea77",
   "metadata": {},
   "source": [
    "# BEGIN QUESTION\n",
    "name: q5b\n",
    "points: 2"
   ]
  },
  {
   "cell_type": "markdown",
   "id": "0f2976d1",
   "metadata": {},
   "source": [
    "---\n",
    "\n",
    "## Question 5b\n",
    "\n",
    "Repeat Question 5a, but accept floating point values for amount per day, and round the result up to an integer.\n",
    "\n",
    "**Hint**: Should you use `/`, `//`, `round()`, `int()`, or something else?\n",
    "\n",
    "\n",
    "Your implementation should correctly evaluate the following:\n",
    "```\n",
    "calculate_supply_bonus(80, 1) # 365\n",
    "calculate_supply_bonus(80, 2) # 730\n",
    "calculate_supply_bonus(36, 3) # 49275\n",
    "calculate_supply(37, 2.17) # 34850\n",
    "```"
   ]
  },
  {
   "cell_type": "raw",
   "id": "7c75da7f",
   "metadata": {},
   "source": [
    "# BEGIN SOLUTION"
   ]
  },
  {
   "cell_type": "code",
   "execution_count": 48,
   "id": "b423320c",
   "metadata": {},
   "outputs": [
    {
     "data": {
      "text/plain": [
       "34850"
      ]
     },
     "execution_count": 48,
     "metadata": {},
     "output_type": "execute_result"
    }
   ],
   "source": [
    "\"\"\" # BEGIN PROMPT\n",
    "# This def statement may be incomplete...\n",
    "def calculate_supply_bonus():\n",
    "    return ...\n",
    "\"\"\" # END PROMPT\n",
    "\n",
    "# BEGIN SOLUTION NO PROMPT\n",
    "def calculate_supply_bonus(age, amount_per_day):\n",
    "    return round((81 - age)*amount_per_day*365)\n",
    "# END SOLUTION\n",
    "\n",
    "# edit the below line as needed to test your function\n",
    "calculate_supply_bonus(37, 2.17)"
   ]
  },
  {
   "cell_type": "raw",
   "id": "d13607dd",
   "metadata": {},
   "source": [
    "# END SOLUTION"
   ]
  },
  {
   "cell_type": "raw",
   "id": "fbccbb4c",
   "metadata": {},
   "source": [
    "# BEGIN TESTS"
   ]
  },
  {
   "cell_type": "code",
   "execution_count": 30,
   "id": "e17223f2",
   "metadata": {},
   "outputs": [
    {
     "data": {
      "text/plain": [
       "True"
      ]
     },
     "execution_count": 30,
     "metadata": {},
     "output_type": "execute_result"
    }
   ],
   "source": [
    "calculate_supply_bonus(80, 1) == 365"
   ]
  },
  {
   "cell_type": "code",
   "execution_count": 31,
   "id": "a567fc01",
   "metadata": {},
   "outputs": [
    {
     "data": {
      "text/plain": [
       "True"
      ]
     },
     "execution_count": 31,
     "metadata": {},
     "output_type": "execute_result"
    }
   ],
   "source": [
    "calculate_supply_bonus(80, 2) == 730"
   ]
  },
  {
   "cell_type": "code",
   "execution_count": 32,
   "id": "ffd77928",
   "metadata": {},
   "outputs": [
    {
     "data": {
      "text/plain": [
       "True"
      ]
     },
     "execution_count": 32,
     "metadata": {},
     "output_type": "execute_result"
    }
   ],
   "source": [
    "calculate_supply_bonus(36, 3) == 49275"
   ]
  },
  {
   "cell_type": "code",
   "execution_count": 34,
   "id": "730a955c",
   "metadata": {},
   "outputs": [
    {
     "data": {
      "text/plain": [
       "True"
      ]
     },
     "execution_count": 34,
     "metadata": {},
     "output_type": "execute_result"
    }
   ],
   "source": [
    "calculate_supply_bonus(37, 2.17) == 34850"
   ]
  },
  {
   "cell_type": "raw",
   "id": "74cf8fd9",
   "metadata": {},
   "source": [
    "# END TESTS"
   ]
  },
  {
   "cell_type": "raw",
   "id": "fdb938fa",
   "metadata": {},
   "source": [
    "# END QUESTION"
   ]
  },
  {
   "cell_type": "markdown",
   "id": "765d5e57",
   "metadata": {},
   "source": [
    "\n",
    "<br/><br/>\n",
    "<hr style=\"border: 5px solid #003262;\" />\n",
    "<hr style=\"border: 1px solid #fdb515;\" />\n",
    "\n",
    "# Part 3: Still More Functions, but Now With Booleans\n",
    "\n",
    "From [CS 61A Lecture 03](https://cs61a.org/assets/slides/03-Control.html#/19) and [CS 88 Lab 01](https://cs88-website.github.io/sp22/lab/lab01/)."
   ]
  },
  {
   "cell_type": "raw",
   "id": "ad90eeeb",
   "metadata": {},
   "source": [
    "# BEGIN QUESTION\n",
    "name: q6\n",
    "points: 2"
   ]
  },
  {
   "cell_type": "markdown",
   "id": "04a14420",
   "metadata": {},
   "source": [
    "# Question 6: Fix the Bug\n",
    "\n",
    "The `both_positive()` function is supposed to return `True` if both `x` and `y` are positive (and `False` otherwise), but it doesn't work!\n",
    "\n",
    "Figure out what is wrong and fix the bugs. A correct implementation should evaluate the following:\n",
    "```\n",
    "both_positive(-1, 1)   # False\n",
    "both_positive(1, 1)    # True\n",
    "```"
   ]
  },
  {
   "cell_type": "raw",
   "id": "126cdec4",
   "metadata": {},
   "source": [
    "# BEGIN SOLUTION"
   ]
  },
  {
   "cell_type": "code",
   "execution_count": 18,
   "id": "edde8051",
   "metadata": {},
   "outputs": [
    {
     "data": {
      "text/plain": [
       "False"
      ]
     },
     "execution_count": 18,
     "metadata": {},
     "output_type": "execute_result"
    }
   ],
   "source": [
    "def both_positive(x, y):\n",
    "    # BEGIN SOLUTION NO PROMPT\n",
    "    return (x > 0) and (y > 0)\n",
    "    # END SOLUTION\n",
    "    \"\"\" # BEGIN PROMPT\n",
    "    return x and y > 0 # You can replace this line!\n",
    "    \"\"\" # END PROMPT\n",
    "    \n",
    "\n",
    "# edit the below line as needed to test your function\n",
    "both_positive(-1, 1)"
   ]
  },
  {
   "cell_type": "raw",
   "id": "986406c6",
   "metadata": {},
   "source": [
    "# END SOLUTION"
   ]
  },
  {
   "cell_type": "raw",
   "id": "3e53850a",
   "metadata": {},
   "source": [
    "# BEGIN TESTS"
   ]
  },
  {
   "cell_type": "code",
   "execution_count": 19,
   "id": "1f3f37c8",
   "metadata": {},
   "outputs": [
    {
     "data": {
      "text/plain": [
       "True"
      ]
     },
     "execution_count": 19,
     "metadata": {},
     "output_type": "execute_result"
    }
   ],
   "source": [
    "both_positive(-1, 1) == False"
   ]
  },
  {
   "cell_type": "code",
   "execution_count": 20,
   "id": "a210156d",
   "metadata": {},
   "outputs": [
    {
     "data": {
      "text/plain": [
       "True"
      ]
     },
     "execution_count": 20,
     "metadata": {},
     "output_type": "execute_result"
    }
   ],
   "source": [
    "both_positive(1, 1) == True"
   ]
  },
  {
   "cell_type": "raw",
   "id": "6a8a7fd5",
   "metadata": {},
   "source": [
    "# END TESTS"
   ]
  },
  {
   "cell_type": "raw",
   "id": "5ae942d0",
   "metadata": {},
   "source": [
    "# END QUESTION"
   ]
  },
  {
   "cell_type": "raw",
   "id": "9e0f6af8",
   "metadata": {},
   "source": [
    "# BEGIN QUESTION\n",
    "name: q7\n",
    "points: 2"
   ]
  },
  {
   "cell_type": "markdown",
   "id": "e11f0000",
   "metadata": {},
   "source": [
    "<br/><br/>\n",
    "\n",
    "---\n",
    "\n",
    "# Question 7: Curly Hair?\n",
    "\n",
    "Implement the function `has_curly_hair()` below, which should only return `True` if both the father allele and the mother allele are `\"C\"` (and return `False` otherwise).\n",
    "\n",
    "**Use only boolean logical and comparator operators**!\n",
    "\n",
    "Your implementation should correctly evaluate the following:\n",
    "\n",
    "```\n",
    "has_curly_hair(\"C\", \"c\")  # False\n",
    "has_curly_hair(\"c\", \"C\")  # False\n",
    "has_curly_hair(\"s\", \"s\")  # False\n",
    "has_curly_hair(\"C\", \"C\")  # True\n",
    "```"
   ]
  },
  {
   "cell_type": "raw",
   "id": "14a17be8",
   "metadata": {},
   "source": [
    "# BEGIN SOLUTION"
   ]
  },
  {
   "cell_type": "code",
   "execution_count": 1,
   "id": "e8337dad",
   "metadata": {},
   "outputs": [
    {
     "data": {
      "text/plain": [
       "False"
      ]
     },
     "execution_count": 1,
     "metadata": {},
     "output_type": "execute_result"
    }
   ],
   "source": [
    "def has_curly_hair(father_allele, mother_allele):\n",
    "    # BEGIN SOLUTION NO PROMPT\n",
    "    return (father_allele == 'C') and (mother_allele == 'C')\n",
    "    # END SOLUTION\n",
    "    \"\"\" # BEGIN PROMPT\n",
    "    return ...\n",
    "    \"\"\" # END PROMPT\n",
    "    \n",
    "# edit the below line as needed to test your function\n",
    "has_curly_hair(\"C\", \"c\")"
   ]
  },
  {
   "cell_type": "raw",
   "id": "85325ac0",
   "metadata": {},
   "source": [
    "# END SOLUTION"
   ]
  },
  {
   "cell_type": "raw",
   "id": "487201d3",
   "metadata": {},
   "source": [
    "# BEGIN TESTS"
   ]
  },
  {
   "cell_type": "code",
   "execution_count": 2,
   "id": "7e80c0da",
   "metadata": {},
   "outputs": [
    {
     "data": {
      "text/plain": [
       "True"
      ]
     },
     "execution_count": 2,
     "metadata": {},
     "output_type": "execute_result"
    }
   ],
   "source": [
    "has_curly_hair(\"C\", \"c\") == False"
   ]
  },
  {
   "cell_type": "code",
   "execution_count": 3,
   "id": "368adcc7",
   "metadata": {},
   "outputs": [
    {
     "data": {
      "text/plain": [
       "True"
      ]
     },
     "execution_count": 3,
     "metadata": {},
     "output_type": "execute_result"
    }
   ],
   "source": [
    "has_curly_hair(\"c\", \"C\") == False"
   ]
  },
  {
   "cell_type": "code",
   "execution_count": 4,
   "id": "9bf790de",
   "metadata": {},
   "outputs": [
    {
     "data": {
      "text/plain": [
       "True"
      ]
     },
     "execution_count": 4,
     "metadata": {},
     "output_type": "execute_result"
    }
   ],
   "source": [
    "has_curly_hair(\"s\", \"s\") == False"
   ]
  },
  {
   "cell_type": "code",
   "execution_count": 5,
   "id": "9cb94a26",
   "metadata": {},
   "outputs": [
    {
     "data": {
      "text/plain": [
       "True"
      ]
     },
     "execution_count": 5,
     "metadata": {},
     "output_type": "execute_result"
    }
   ],
   "source": [
    "has_curly_hair(\"C\", \"C\") == True"
   ]
  },
  {
   "cell_type": "raw",
   "id": "9dd3834c",
   "metadata": {},
   "source": [
    "# END TESTS"
   ]
  },
  {
   "cell_type": "raw",
   "id": "90adcd65",
   "metadata": {},
   "source": [
    "# END QUESTION"
   ]
  },
  {
   "cell_type": "markdown",
   "id": "c1a7c7fa",
   "metadata": {},
   "source": [
    "## Done!\n",
    "\n",
    "That's it! There's nowhere for you to submit this, as labs are not assignments. However, please ask any questions you have with this notebook in lab."
   ]
  }
 ],
 "metadata": {
  "kernelspec": {
   "display_name": "Python 3 (ipykernel)",
   "language": "python",
   "name": "python3"
  },
  "language_info": {
   "codemirror_mode": {
    "name": "ipython",
    "version": 3
   },
   "file_extension": ".py",
   "mimetype": "text/x-python",
   "name": "python",
   "nbconvert_exporter": "python",
   "pygments_lexer": "ipython3",
   "version": "3.11.3"
  }
 },
 "nbformat": 4,
 "nbformat_minor": 5
}
