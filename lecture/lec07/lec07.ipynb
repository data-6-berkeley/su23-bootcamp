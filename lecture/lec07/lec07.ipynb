{
 "cells": [
  {
   "cell_type": "code",
   "execution_count": 13,
   "id": "ee0ec66b",
   "metadata": {},
   "outputs": [],
   "source": [
    "import numpy as np\n",
    "from datascience import *"
   ]
  },
  {
   "cell_type": "code",
   "execution_count": 14,
   "id": "40cbf8c2",
   "metadata": {},
   "outputs": [
    {
     "data": {
      "text/html": [
       "<table border=\"1\" class=\"dataframe\">\n",
       "    <thead>\n",
       "        <tr>\n",
       "            <th>track name</th> <th>artist name</th> <th>album name</th> <th>album artist name</th> <th>album release date</th> <th>track number</th> <th>track duration (ms)</th> <th>Feature</th> <th>Explicit</th> <th>Popularity</th> <th>Added By</th>\n",
       "        </tr>\n",
       "    </thead>\n",
       "    <tbody>\n",
       "        <tr>\n",
       "            <td>It's Plenty     </td> <td>Burna Boy                </td> <td>Love, Damini                       </td> <td>Burna Boy                </td> <td>2022-07-07        </td> <td>9           </td> <td>216991             </td> <td>False  </td> <td>True    </td> <td>76        </td> <td>eunice  </td>\n",
       "        </tr>\n",
       "        <tr>\n",
       "            <td>TEMPORARY HIGHS </td> <td>Snoh Aalegra             </td> <td>TEMPORARY HIGHS IN THE VIOLET SKIES</td> <td>Snoh Aalegra             </td> <td>2021-07-09        </td> <td>8           </td> <td>80066              </td> <td>False  </td> <td>False   </td> <td>37        </td> <td>eunice  </td>\n",
       "        </tr>\n",
       "        <tr>\n",
       "            <td>Last Last       </td> <td>Burna Boy                </td> <td>Love, Damini                       </td> <td>Burna Boy                </td> <td>2022-07-07        </td> <td>7           </td> <td>172342             </td> <td>False  </td> <td>False   </td> <td>84        </td> <td>jas     </td>\n",
       "        </tr>\n",
       "        <tr>\n",
       "            <td>Lovers Rock     </td> <td>TV Girl                  </td> <td>French Exit                        </td> <td>TV Girl                  </td> <td>2014-06-05        </td> <td>9           </td> <td>213920             </td> <td>False  </td> <td>False   </td> <td>90        </td> <td>eunice  </td>\n",
       "        </tr>\n",
       "        <tr>\n",
       "            <td>All I Have      </td> <td>Amerie                   </td> <td>All I Have                         </td> <td>Amerie                   </td> <td>2002-07-30        </td> <td>11          </td> <td>248573             </td> <td>False  </td> <td>False   </td> <td>37        </td> <td>jas     </td>\n",
       "        </tr>\n",
       "        <tr>\n",
       "            <td>Need You Tonight</td> <td>Amerie                   </td> <td>All I Have                         </td> <td>Amerie                   </td> <td>2002-07-30        </td> <td>5           </td> <td>229560             </td> <td>False  </td> <td>False   </td> <td>31        </td> <td>jas     </td>\n",
       "        </tr>\n",
       "        <tr>\n",
       "            <td>ca$h $hit       </td> <td>Gunna                    </td> <td>a Gift & a Curse                   </td> <td>Gunna                    </td> <td>2023-06-16        </td> <td>5           </td> <td>131493             </td> <td>False  </td> <td>True    </td> <td>78        </td> <td>jas     </td>\n",
       "        </tr>\n",
       "        <tr>\n",
       "            <td>Dirt            </td> <td>Key Glock                </td> <td>Glockoma 2                         </td> <td>Key Glock                </td> <td>2023-02-24        </td> <td>1           </td> <td>199293             </td> <td>False  </td> <td>True    </td> <td>67        </td> <td>jas     </td>\n",
       "        </tr>\n",
       "        <tr>\n",
       "            <td>Peach           </td> <td>Kevin Abstract           </td> <td>ARIZONA BABY                       </td> <td>Kevin Abstract           </td> <td>2019-04-25        </td> <td>8           </td> <td>176732             </td> <td>False  </td> <td>True    </td> <td>70        </td> <td>eunice  </td>\n",
       "        </tr>\n",
       "        <tr>\n",
       "            <td>Phone Numbers   </td> <td>Dominic Fike, Kenny Beats</td> <td>Phone Numbers                      </td> <td>Dominic Fike, Kenny Beats</td> <td>2019-07-04        </td> <td>1           </td> <td>146826             </td> <td>True   </td> <td>True    </td> <td>76        </td> <td>eunice  </td>\n",
       "        </tr>\n",
       "    </tbody>\n",
       "</table>\n",
       "<p>... (81 rows omitted)</p>"
      ],
      "text/plain": [
       "track name       | artist name               | album name                          | album artist name         | album release date | track number | track duration (ms) | Feature | Explicit | Popularity | Added By\n",
       "It's Plenty      | Burna Boy                 | Love, Damini                        | Burna Boy                 | 2022-07-07         | 9            | 216991              | False   | True     | 76         | eunice\n",
       "TEMPORARY HIGHS  | Snoh Aalegra              | TEMPORARY HIGHS IN THE VIOLET SKIES | Snoh Aalegra              | 2021-07-09         | 8            | 80066               | False   | False    | 37         | eunice\n",
       "Last Last        | Burna Boy                 | Love, Damini                        | Burna Boy                 | 2022-07-07         | 7            | 172342              | False   | False    | 84         | jas\n",
       "Lovers Rock      | TV Girl                   | French Exit                         | TV Girl                   | 2014-06-05         | 9            | 213920              | False   | False    | 90         | eunice\n",
       "All I Have       | Amerie                    | All I Have                          | Amerie                    | 2002-07-30         | 11           | 248573              | False   | False    | 37         | jas\n",
       "Need You Tonight | Amerie                    | All I Have                          | Amerie                    | 2002-07-30         | 5            | 229560              | False   | False    | 31         | jas\n",
       "ca$h $hit        | Gunna                     | a Gift & a Curse                    | Gunna                     | 2023-06-16         | 5            | 131493              | False   | True     | 78         | jas\n",
       "Dirt             | Key Glock                 | Glockoma 2                          | Key Glock                 | 2023-02-24         | 1            | 199293              | False   | True     | 67         | jas\n",
       "Peach            | Kevin Abstract            | ARIZONA BABY                        | Kevin Abstract            | 2019-04-25         | 8            | 176732              | False   | True     | 70         | eunice\n",
       "Phone Numbers    | Dominic Fike, Kenny Beats | Phone Numbers                       | Dominic Fike, Kenny Beats | 2019-07-04         | 1            | 146826              | True    | True     | 76         | eunice\n",
       "... (81 rows omitted)"
      ]
     },
     "execution_count": 14,
     "metadata": {},
     "output_type": "execute_result"
    }
   ],
   "source": [
    "t = Table().read_table('playlist.csv')\n",
    "t"
   ]
  },
  {
   "cell_type": "code",
   "execution_count": null,
   "id": "268c973d",
   "metadata": {},
   "outputs": [],
   "source": [
    "A columns in a table can be thought of as arrays"
   ]
  },
  {
   "cell_type": "markdown",
   "id": "7502a487",
   "metadata": {},
   "source": [
    "add a column describing the data, some ideas: genre, if you know the song, if you like the song\n",
    "\n",
    "Fill in the two arguments for first 5 rows in the table"
   ]
  },
  {
   "cell_type": "code",
   "execution_count": 11,
   "id": "d093707e",
   "metadata": {},
   "outputs": [],
   "source": [
    "table = t.sample(t.num_rows).take(np.arange(5)).select(0,1,2,9)"
   ]
  },
  {
   "cell_type": "code",
   "execution_count": 12,
   "id": "1eaf0c46",
   "metadata": {},
   "outputs": [
    {
     "data": {
      "text/html": [
       "<table border=\"1\" class=\"dataframe\">\n",
       "    <thead>\n",
       "        <tr>\n",
       "            <th>track name</th> <th>artist name</th> <th>album name</th> <th>Added By</th>\n",
       "        </tr>\n",
       "    </thead>\n",
       "    <tbody>\n",
       "        <tr>\n",
       "            <td>November                   </td> <td>Tyler\\, The Creator   </td> <td>Flower Boy     </td> <td>diaamondxo</td>\n",
       "        </tr>\n",
       "        <tr>\n",
       "            <td>Search & Rescue            </td> <td>Drake                 </td> <td>Search & Rescue</td> <td>Omari     </td>\n",
       "        </tr>\n",
       "        <tr>\n",
       "            <td>It's Plenty                </td> <td>Burna Boy             </td> <td>Love, Damini   </td> <td>eunice    </td>\n",
       "        </tr>\n",
       "        <tr>\n",
       "            <td>Belong to You (feat. 6LACK)</td> <td>Sabrina Claudio, 6LACK</td> <td>About Time     </td> <td>Omari     </td>\n",
       "        </tr>\n",
       "        <tr>\n",
       "            <td>Snooze                     </td> <td>SZA                   </td> <td>SOS            </td> <td>diaamondxo</td>\n",
       "        </tr>\n",
       "    </tbody>\n",
       "</table>"
      ],
      "text/plain": [
       "track name                  | artist name            | album name      | Added By\n",
       "November                    | Tyler\\, The Creator    | Flower Boy      | diaamondxo\n",
       "Search & Rescue             | Drake                  | Search & Rescue | Omari\n",
       "It's Plenty                 | Burna Boy              | Love, Damini    | eunice\n",
       "Belong to You (feat. 6LACK) | Sabrina Claudio, 6LACK | About Time      | Omari\n",
       "Snooze                      | SZA                    | SOS             | diaamondxo"
      ]
     },
     "execution_count": 12,
     "metadata": {},
     "output_type": "execute_result"
    }
   ],
   "source": [
    "table"
   ]
  },
  {
   "cell_type": "code",
   "execution_count": null,
   "id": "c05c32ad",
   "metadata": {
    "scrolled": false
   },
   "outputs": [],
   "source": [
    "table.with_column(..., ...)"
   ]
  },
  {
   "cell_type": "code",
   "execution_count": null,
   "id": "fe01f838",
   "metadata": {},
   "outputs": [],
   "source": []
  },
  {
   "cell_type": "code",
   "execution_count": null,
   "id": "a8fdd96f",
   "metadata": {},
   "outputs": [],
   "source": []
  }
 ],
 "metadata": {
  "kernelspec": {
   "display_name": "Python 3 (ipykernel)",
   "language": "python",
   "name": "python3"
  },
  "language_info": {
   "codemirror_mode": {
    "name": "ipython",
    "version": 3
   },
   "file_extension": ".py",
   "mimetype": "text/x-python",
   "name": "python",
   "nbconvert_exporter": "python",
   "pygments_lexer": "ipython3",
   "version": "3.9.15"
  }
 },
 "nbformat": 4,
 "nbformat_minor": 5
}
