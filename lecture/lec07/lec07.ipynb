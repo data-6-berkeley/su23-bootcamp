{
 "cells": [
  {
   "cell_type": "code",
   "execution_count": 1,
   "id": "ee0ec66b",
   "metadata": {},
   "outputs": [],
   "source": [
    "import numpy as np\n",
    "from datascience import *"
   ]
  },
  {
   "cell_type": "code",
   "execution_count": 2,
   "id": "40cbf8c2",
   "metadata": {},
   "outputs": [
    {
     "data": {
      "text/html": [
       "<table border=\"1\" class=\"dataframe\">\n",
       "    <thead>\n",
       "        <tr>\n",
       "            <th>Player</th> <th>Points</th> <th>Assists</th>\n",
       "        </tr>\n",
       "    </thead>\n",
       "    <tbody>\n",
       "        <tr>\n",
       "            <td>Curry </td> <td>31    </td> <td>6      </td>\n",
       "        </tr>\n",
       "        <tr>\n",
       "            <td>James </td> <td>25    </td> <td>9      </td>\n",
       "        </tr>\n",
       "        <tr>\n",
       "            <td>Jokic </td> <td>29    </td> <td>12     </td>\n",
       "        </tr>\n",
       "        <tr>\n",
       "            <td>Butler</td> <td>19    </td> <td>10     </td>\n",
       "        </tr>\n",
       "    </tbody>\n",
       "</table>"
      ],
      "text/plain": [
       "Player | Points | Assists\n",
       "Curry  | 31     | 6\n",
       "James  | 25     | 9\n",
       "Jokic  | 29     | 12\n",
       "Butler | 19     | 10"
      ]
     },
     "execution_count": 2,
     "metadata": {},
     "output_type": "execute_result"
    }
   ],
   "source": [
    "t = Table().with_columns(\n",
    "    'Player', ['Curry', 'James', 'Jokic', 'Butler'],\n",
    "    'Points',  [  31,   25,   29,   19],\n",
    "    'Assists', [  6,   9,   12,  10],\n",
    ")\n",
    "t"
   ]
  },
  {
   "cell_type": "code",
   "execution_count": null,
   "id": "a8fdd96f",
   "metadata": {},
   "outputs": [],
   "source": []
  }
 ],
 "metadata": {
  "kernelspec": {
   "display_name": "Python 3 (ipykernel)",
   "language": "python",
   "name": "python3"
  },
  "language_info": {
   "codemirror_mode": {
    "name": "ipython",
    "version": 3
   },
   "file_extension": ".py",
   "mimetype": "text/x-python",
   "name": "python",
   "nbconvert_exporter": "python",
   "pygments_lexer": "ipython3",
   "version": "3.9.15"
  }
 },
 "nbformat": 4,
 "nbformat_minor": 5
}
